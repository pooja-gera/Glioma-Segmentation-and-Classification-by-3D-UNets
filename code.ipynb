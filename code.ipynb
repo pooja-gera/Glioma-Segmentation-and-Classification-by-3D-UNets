{
 "cells": [
  {
   "cell_type": "markdown",
   "metadata": {},
   "source": [
    "# Data Augmentation"
   ]
  },
  {
   "cell_type": "code",
   "execution_count": null,
   "metadata": {},
   "outputs": [],
   "source": [
    "HGG_image_paths = []\n",
    "for dirname, _, filenames in os.walk('/kaggle/input/brats-2020-denoised-data/Mask Imposed Image Dataset/HGG'):\n",
    "    for filename in filenames:\n",
    "        file_path = os.path.join(dirname,filename)\n",
    "        HGG_image_paths.append(file_path)\n",
    "        #print(os.path.join(file_path))\n",
    "print(len(HGG_image_paths))"
   ]
  },
  {
   "cell_type": "code",
   "execution_count": null,
   "metadata": {},
   "outputs": [],
   "source": [
    "LGG_image_paths = []\n",
    "for dirname, _, filenames in os.walk('/kaggle/input/brats-2020-denoised-data/Mask Imposed Image Dataset/LGG'):\n",
    "    for filename in filenames:\n",
    "        file_path = os.path.join(dirname,filename)\n",
    "        LGG_image_paths.append(file_path)\n",
    "        #print(os.path.join(file_path))\n",
    "print(len(LGG_image_paths))"
   ]
  },
  {
   "cell_type": "markdown",
   "metadata": {},
   "source": [
    "## Inference\n",
    "\n",
    "There are 46 images in the HGG category and 48 images in the LGG category."
   ]
  },
  {
   "cell_type": "code",
   "execution_count": null,
   "metadata": {},
   "outputs": [],
   "source": [
    "import numpy as np\n",
    "import os\n",
    "import PIL\n",
    "import PIL.Image\n",
    "import tensorflow as tf\n",
    "import tensorflow_datasets as tfds\n",
    "import pathlib"
   ]
  },
  {
   "cell_type": "code",
   "execution_count": null,
   "metadata": {},
   "outputs": [],
   "source": [
    "print(tf.__version__)"
   ]
  },
  {
   "cell_type": "code",
   "execution_count": null,
   "metadata": {},
   "outputs": [],
   "source": [
    "file_path_npy = '/kaggle/input/brats-2020-denoised-data/Mask Imposed Image Dataset/HGG/masked_img_denoised_image_0.npy'\n",
    "data_npy = np.load(file_path_npy)\n",
    "data_npy.shape"
   ]
  },
  {
   "cell_type": "code",
   "execution_count": null,
   "metadata": {},
   "outputs": [],
   "source": [
    "num_rows = int(np.ceil(np.sqrt(data_npy.shape[2])))\n",
    "num_cols = int(np.ceil(data_npy.shape[2] / num_rows))"
   ]
  },
  {
   "cell_type": "code",
   "execution_count": null,
   "metadata": {},
   "outputs": [],
   "source": [
    "os.makedirs('/kaggle/working/HGG_slices',exist_ok=True)"
   ]
  },
  {
   "cell_type": "code",
   "execution_count": null,
   "metadata": {},
   "outputs": [],
   "source": [
    "os.makedirs('/kaggle/working/LGG_slices',exist_ok=True)"
   ]
  },
  {
   "cell_type": "code",
   "execution_count": null,
   "metadata": {},
   "outputs": [],
   "source": [
    "input_dir = '/kaggle/input/brats-2020-denoised-data/Mask Imposed Image Dataset/HGG'\n",
    "output_dir = '/kaggle/working/HGG_slices'\n",
    "\n",
    "# Iterate over all .npy files in the input directory\n",
    "for filename in os.listdir(input_dir):\n",
    "    if filename.endswith('.npy'):\n",
    "        # Load the 3D numpy array from the file\n",
    "        path = os.path.join(input_dir, filename)\n",
    "        #print(path)\n",
    "        data = np.load(path)\n",
    "        \n",
    "        # Create a new subdirectory for this image\n",
    "        image_dir = os.path.join(output_dir, os.path.splitext(filename)[0])\n",
    "        #print(image_dir)\n",
    "        os.makedirs(image_dir, exist_ok=True)\n",
    "        \n",
    "        # Save each 2D slice of the 3D numpy array as a separate PNG file\n",
    "        for i in range(data.shape[2]):\n",
    "            slice_path = os.path.join(image_dir, f'slice_{i:03d}.png')\n",
    "            fig = plt.figure(figsize=(6, 6))\n",
    "            plt.imsave(slice_path, data[:, :, i], cmap='gray')\n",
    "            plt.close(fig)"
   ]
  },
  {
   "cell_type": "code",
   "execution_count": null,
   "metadata": {},
   "outputs": [],
   "source": [
    "input_dir = '/kaggle/input/brats-2020-denoised-data/Mask Imposed Image Dataset/LGG'\n",
    "output_dir = '/kaggle/working/LGG_slices'\n",
    "\n",
    "# Iterate over all .npy files in the input directory\n",
    "for filename in os.listdir(input_dir):\n",
    "    if filename.endswith('.npy'):\n",
    "        # Load the 3D numpy array from the file\n",
    "        path = os.path.join(input_dir, filename)\n",
    "        #print(path)\n",
    "        data = np.load(path)\n",
    "        \n",
    "        # Create a new subdirectory for this image\n",
    "        image_dir = os.path.join(output_dir, os.path.splitext(filename)[0])\n",
    "        #print(image_dir)\n",
    "        os.makedirs(image_dir, exist_ok=True)\n",
    "        \n",
    "        # Save each 2D slice of the 3D numpy array as a separate PNG file\n",
    "        for i in range(data.shape[2]):\n",
    "            slice_path = os.path.join(image_dir, f'slice_{i:03d}.png')\n",
    "            fig = plt.figure(figsize=(6, 6))\n",
    "            plt.imsave(slice_path, data[:, :, i], cmap='gray')\n",
    "            plt.close(fig)"
   ]
  },
  {
   "cell_type": "markdown",
   "metadata": {},
   "source": [
    "##### Copying folders to delete all black slices and also having backup data."
   ]
  },
  {
   "cell_type": "code",
   "execution_count": null,
   "metadata": {},
   "outputs": [],
   "source": [
    "import os\n",
    "import shutil\n",
    "\n",
    "def copy_folder(src_folder, dst_folder):\n",
    "    if not os.path.exists(dst_folder):\n",
    "        os.makedirs(dst_folder)\n",
    "    for item in os.listdir(src_folder):\n",
    "        src_item = os.path.join(src_folder, item)\n",
    "        dst_item = os.path.join(dst_folder, item)\n",
    "        if os.path.isdir(src_item):\n",
    "            copy_folder(src_item, dst_item)\n",
    "        else:\n",
    "            shutil.copy2(src_item, dst_item)\n",
    "\n",
    "copy_folder(\"/kaggle/working/LGG_slices\", \"/kaggle/working/LGG_slices_copy\")\n",
    "copy_folder(\"/kaggle/working/HGG_slices\", \"/kaggle/working/HGG_slices_copy\")"
   ]
  },
  {
   "cell_type": "markdown",
   "metadata": {},
   "source": [
    "##### Working in LGG_slices_copy and HGG_slices_copy folders to delete all black images"
   ]
  },
  {
   "cell_type": "code",
   "execution_count": null,
   "metadata": {},
   "outputs": [],
   "source": [
    "import os\n",
    "from PIL import Image\n",
    "\n",
    "def delete_black_images(folder_path):\n",
    "    for subdir, dirs, files in os.walk(folder_path):\n",
    "        for file in files:\n",
    "            file_path = os.path.join(subdir, file)\n",
    "            try:\n",
    "                img = Image.open(file_path)\n",
    "                pixels = img.load()\n",
    "                width, height = img.size\n",
    "                for x in range(width):\n",
    "                    for y in range(height):\n",
    "                        if pixels[x, y] != (0, 0, 0):\n",
    "                            break\n",
    "                        else:\n",
    "                            continue\n",
    "                    break\n",
    "                else:\n",
    "                    os.remove(file_path)\n",
    "                    print(f\"Deleted {file_path}\")\n",
    "            except Exception as e:\n",
    "                print(f\"Error: {e}\")\n",
    "\n",
    "delete_black_images(\"/kaggle/working/LGG_slices_copy\")\n",
    "delete_black_images(\"/kaggle/working/HGG_slices_copy\")"
   ]
  },
  {
   "cell_type": "code",
   "execution_count": null,
   "metadata": {},
   "outputs": [],
   "source": [
    "import matplotlib.pyplot as plt\n",
    "from PIL import Image\n",
    "\n",
    "# Load image\n",
    "image_path = \"/kaggle/working/LGG_slices_copy/masked_img_denoised_image_64/slice_033.png\"\n",
    "image = Image.open(image_path)\n",
    "\n",
    "# Convert image to grayscale\n",
    "image = image.convert(\"L\")\n",
    "\n",
    "# Get histogram data\n",
    "histogram = image.histogram()\n",
    "\n",
    "# Plot histogram\n",
    "plt.hist(histogram, bins=256, range=(0, 256), color='black')\n",
    "plt.title(\"Image Histogram\")\n",
    "plt.xlabel(\"Pixel Value\")\n",
    "plt.ylabel(\"Frequency\")\n",
    "plt.show()"
   ]
  },
  {
   "cell_type": "code",
   "execution_count": null,
   "metadata": {},
   "outputs": [],
   "source": [
    "import matplotlib.pyplot as plt\n",
    "import numpy as np\n",
    "from PIL import Image\n",
    "\n",
    "# Load image\n",
    "image_path = \"/kaggle/working/LGG_slices_copy/masked_img_denoised_image_64/slice_004.png\"\n",
    "image = Image.open(image_path)\n",
    "\n",
    "# Convert image to grayscale\n",
    "image = image.convert(\"L\")\n",
    "\n",
    "# Normalize pixel values to [0, 1]\n",
    "pixels = np.asarray(image) / 255.0\n",
    "\n",
    "# Create heatmap using viridis colormap\n",
    "heatmap = plt.cm.viridis(pixels)\n",
    "\n",
    "if np.unique(pixels).size == 1:\n",
    "    print(\"The heatmap has no color variations.\")\n",
    "else:\n",
    "    print(\"The heatmap has color variations.\")\n",
    "\n",
    "# Plot heatmap\n",
    "plt.imshow(heatmap)\n",
    "plt.title(\"Image Heatmap\")\n",
    "plt.axis(\"off\")\n",
    "plt.show()\n"
   ]
  },
  {
   "cell_type": "code",
   "execution_count": null,
   "metadata": {},
   "outputs": [],
   "source": [
    "def delete_black_images_heatmap(folder_path):\n",
    "    for subdir, dirs, files in os.walk(folder_path):\n",
    "        for file in files:\n",
    "            image_path = os.path.join(subdir, file)\n",
    "            image = Image.open(image_path)\n",
    "            image = image.convert(\"L\")\n",
    "            pixels = np.asarray(image) / 255.0\n",
    "            if np.unique(pixels).size == 1:\n",
    "                print(f\"Deleted {image_path}\")\n",
    "                os.remove(image_path)\n",
    "\n",
    "delete_black_images_heatmap(\"/kaggle/working/LGG_slices_copy\")\n",
    "delete_black_images_heatmap(\"/kaggle/working/HGG_slices_copy\")            "
   ]
  },
  {
   "cell_type": "code",
   "execution_count": null,
   "metadata": {},
   "outputs": [],
   "source": [
    "import os\n",
    "import math\n",
    "import matplotlib.pyplot as plt\n",
    "from PIL import Image\n",
    "\n",
    "# Get number of images in folder\n",
    "folder_path = \"/kaggle/working/LGG_slices_copy/masked_img_denoised_image_64\"\n",
    "num_images = len(os.listdir(folder_path))\n",
    "\n",
    "# Calculate number of rows and columns\n",
    "num_plots = math.ceil(math.sqrt(num_images))\n",
    "num_cols = num_plots\n",
    "num_rows = num_plots\n",
    "\n",
    "# Set figure size\n",
    "fig_width = 10\n",
    "fig_height = 10\n",
    "\n",
    "# Create figure and axes\n",
    "fig, axs = plt.subplots(num_rows, num_cols, figsize=(fig_width, fig_height))\n",
    "\n",
    "# Flatten axes array to make it easier to iterate over\n",
    "axs = axs.flatten()\n",
    "\n",
    "# Iterate over all images in folder\n",
    "for i, file in enumerate(os.listdir(folder_path)):\n",
    "    if i >= num_cols * num_rows:\n",
    "        break\n",
    "    file_path = os.path.join(folder_path, file)\n",
    "    img = Image.open(file_path)\n",
    "    axs[i].imshow(img)\n",
    "    axs[i].axis(\"off\")\n",
    "\n",
    "# Show figure\n",
    "plt.tight_layout()\n",
    "plot_path = \"/kaggle/working/remove_all_black_slices.png\"\n",
    "plt.savefig(plot_path, dpi=300, bbox_inches=\"tight\")\n",
    "plt.show()\n"
   ]
  },
  {
   "cell_type": "markdown",
   "metadata": {},
   "source": [
    "##### All black images have been deleted now. Copying folders to do data augmentation and also have backup data."
   ]
  },
  {
   "cell_type": "code",
   "execution_count": null,
   "metadata": {},
   "outputs": [],
   "source": [
    "import os\n",
    "import shutil\n",
    "\n",
    "def copy_folder(src_folder, dst_folder):\n",
    "    if not os.path.exists(dst_folder):\n",
    "        os.makedirs(dst_folder)\n",
    "    for item in os.listdir(src_folder):\n",
    "        src_item = os.path.join(src_folder, item)\n",
    "        dst_item = os.path.join(dst_folder, item)\n",
    "        if os.path.isdir(src_item):\n",
    "            copy_folder(src_item, dst_item)\n",
    "        else:\n",
    "            shutil.copy2(src_item, dst_item)\n",
    "\n",
    "copy_folder(\"/kaggle/working/LGG_slices_copy\", \"/kaggle/working/LGG_slices_augmented\")\n",
    "copy_folder(\"/kaggle/working/HGG_slices_copy\", \"/kaggle/working/HGG_slices_augmented\")"
   ]
  },
  {
   "cell_type": "markdown",
   "metadata": {},
   "source": [
    "##### Peforming data augmentation now"
   ]
  },
  {
   "cell_type": "code",
   "execution_count": null,
   "metadata": {},
   "outputs": [],
   "source": [
    "import os\n",
    "import cv2\n",
    "from PIL import Image\n",
    "\n",
    "# Set up data augmentation parameters\n",
    "rotation_angles = [30, 60, 90]\n",
    "flip_axes = [0, 1, -1]\n",
    "\n",
    "# Iterate over all subfolders in folder\n",
    "folder_path = \"/kaggle/working/LGG_slices_augmented\"\n",
    "for subfolder in os.listdir(folder_path):\n",
    "    subfolder_path = os.path.join(folder_path, subfolder)\n",
    "    if not os.path.isdir(subfolder_path):\n",
    "        continue\n",
    "\n",
    "    # Iterate over all images in subfolder\n",
    "    for file in os.listdir(subfolder_path):\n",
    "        file_path = os.path.join(subfolder_path, file)\n",
    "\n",
    "        # Load image\n",
    "        img = cv2.imread(file_path)\n",
    "\n",
    "        # Perform data augmentation\n",
    "        for angle in rotation_angles:\n",
    "            rotated = Image.fromarray(img).rotate(angle)\n",
    "            rotated.save(file_path[:-4] + f\"_rotated{angle}.png\")\n",
    "\n",
    "        for axis in flip_axes:\n",
    "            flipped = cv2.flip(img, axis)\n",
    "            cv2.imwrite(file_path[:-4] + f\"_flipped{axis}.png\", flipped)\n"
   ]
  },
  {
   "cell_type": "code",
   "execution_count": null,
   "metadata": {},
   "outputs": [],
   "source": [
    "import os\n",
    "import cv2\n",
    "from PIL import Image\n",
    "\n",
    "# Set up data augmentation parameters\n",
    "rotation_angles = [30, 60, 90]\n",
    "flip_axes = [0, 1, -1]\n",
    "\n",
    "# Iterate over all subfolders in folder\n",
    "folder_path = \"/kaggle/working/HGG_slices_augmented\"\n",
    "for subfolder in os.listdir(folder_path):\n",
    "    subfolder_path = os.path.join(folder_path, subfolder)\n",
    "    if not os.path.isdir(subfolder_path):\n",
    "        continue\n",
    "\n",
    "    # Iterate over all images in subfolder\n",
    "    for file in os.listdir(subfolder_path):\n",
    "        file_path = os.path.join(subfolder_path, file)\n",
    "\n",
    "        # Load image\n",
    "        img = cv2.imread(file_path)\n",
    "\n",
    "        # Perform data augmentation\n",
    "        for angle in rotation_angles:\n",
    "            rotated = Image.fromarray(img).rotate(angle)\n",
    "            rotated.save(file_path[:-4] + f\"_rotated{angle}.png\")\n",
    "\n",
    "        for axis in flip_axes:\n",
    "            flipped = cv2.flip(img, axis)\n",
    "            cv2.imwrite(file_path[:-4] + f\"_flipped{axis}.png\", flipped)\n"
   ]
  },
  {
   "cell_type": "markdown",
   "metadata": {},
   "source": [
    "##### Saving a plot of augmented slices now"
   ]
  },
  {
   "cell_type": "code",
   "execution_count": null,
   "metadata": {},
   "outputs": [],
   "source": [
    "directory_path = \"/kaggle/working/HGG_slices_augmented\"\n",
    "subdirectories = [f.path for f in os.scandir(directory_path) if f.is_dir()]\n",
    "\n",
    "# Print list of subdirectories\n",
    "print(subdirectories)"
   ]
  },
  {
   "cell_type": "code",
   "execution_count": null,
   "metadata": {},
   "outputs": [],
   "source": [
    "import os\n",
    "import math\n",
    "import matplotlib.pyplot as plt\n",
    "from PIL import Image\n",
    "\n",
    "# Get number of images in folder\n",
    "folder_path = \"/kaggle/working/HGG_slices_augmented/masked_img_denoised_image_25\"\n",
    "num_images = len(os.listdir(folder_path))\n",
    "\n",
    "# Calculate number of rows and columns\n",
    "num_plots = math.ceil(math.sqrt(num_images))\n",
    "num_cols = 10\n",
    "num_rows = num_plots\n",
    "\n",
    "# Set figure size\n",
    "fig_width = 10\n",
    "fig_height = 10\n",
    "\n",
    "# Create figure and axes\n",
    "fig, axs = plt.subplots(num_rows, num_cols, figsize=(fig_width, fig_height))\n",
    "\n",
    "# Flatten axes array to make it easier to iterate over\n",
    "axs = axs.flatten()\n",
    "\n",
    "# Iterate over all images in folder\n",
    "for i, file in enumerate(os.listdir(folder_path)):\n",
    "    if i >= num_cols * num_rows:\n",
    "        break\n",
    "    file_path = os.path.join(folder_path, file)\n",
    "    img = Image.open(file_path)\n",
    "    axs[i].imshow(img)\n",
    "    axs[i].axis(\"off\")\n",
    "\n",
    "# Show figure\n",
    "plt.tight_layout()\n",
    "plot_path = \"/kaggle/working/augmented_slices_HGG.png\"\n",
    "plt.savefig(plot_path, dpi=300, bbox_inches=\"tight\")\n",
    "plt.show()\n"
   ]
  }
 ],
 "metadata": {
  "language_info": {
   "name": "python"
  },
  "orig_nbformat": 4
 },
 "nbformat": 4,
 "nbformat_minor": 2
}
